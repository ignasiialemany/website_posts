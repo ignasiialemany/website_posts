{
 "cells": [
  {
   "cell_type": "markdown",
   "metadata": {},
   "source": [
    "Install dependencies first"
   ]
  },
  {
   "cell_type": "code",
   "execution_count": 1,
   "metadata": {},
   "outputs": [
    {
     "name": "stdout",
     "output_type": "stream",
     "text": [
      "Collecting chembl_webresource_client\n",
      "  Downloading chembl_webresource_client-0.10.9-py3-none-any.whl.metadata (1.4 kB)\n",
      "Requirement already satisfied: urllib3 in /Users/ia4118/anaconda3/envs/pytorch_venv/lib/python3.10/site-packages (from chembl_webresource_client) (2.2.3)\n",
      "Requirement already satisfied: requests>=2.18.4 in /Users/ia4118/anaconda3/envs/pytorch_venv/lib/python3.10/site-packages (from chembl_webresource_client) (2.32.3)\n",
      "Collecting requests-cache~=1.2 (from chembl_webresource_client)\n",
      "  Downloading requests_cache-1.2.1-py3-none-any.whl.metadata (9.9 kB)\n",
      "Collecting easydict (from chembl_webresource_client)\n",
      "  Downloading easydict-1.13-py3-none-any.whl.metadata (4.2 kB)\n",
      "Requirement already satisfied: charset-normalizer<4,>=2 in /Users/ia4118/anaconda3/envs/pytorch_venv/lib/python3.10/site-packages (from requests>=2.18.4->chembl_webresource_client) (3.4.0)\n",
      "Requirement already satisfied: idna<4,>=2.5 in /Users/ia4118/anaconda3/envs/pytorch_venv/lib/python3.10/site-packages (from requests>=2.18.4->chembl_webresource_client) (3.10)\n",
      "Requirement already satisfied: certifi>=2017.4.17 in /Users/ia4118/anaconda3/envs/pytorch_venv/lib/python3.10/site-packages (from requests>=2.18.4->chembl_webresource_client) (2024.8.30)\n",
      "Requirement already satisfied: attrs>=21.2 in /Users/ia4118/anaconda3/envs/pytorch_venv/lib/python3.10/site-packages (from requests-cache~=1.2->chembl_webresource_client) (24.2.0)\n",
      "Collecting cattrs>=22.2 (from requests-cache~=1.2->chembl_webresource_client)\n",
      "  Downloading cattrs-24.1.2-py3-none-any.whl.metadata (8.4 kB)\n",
      "Requirement already satisfied: platformdirs>=2.5 in /Users/ia4118/anaconda3/envs/pytorch_venv/lib/python3.10/site-packages (from requests-cache~=1.2->chembl_webresource_client) (4.3.6)\n",
      "Collecting url-normalize>=1.4 (from requests-cache~=1.2->chembl_webresource_client)\n",
      "  Downloading url_normalize-1.4.3-py2.py3-none-any.whl.metadata (3.1 kB)\n",
      "Requirement already satisfied: exceptiongroup>=1.1.1 in /Users/ia4118/anaconda3/envs/pytorch_venv/lib/python3.10/site-packages (from cattrs>=22.2->requests-cache~=1.2->chembl_webresource_client) (1.2.2)\n",
      "Requirement already satisfied: typing-extensions!=4.6.3,>=4.1.0 in /Users/ia4118/anaconda3/envs/pytorch_venv/lib/python3.10/site-packages (from cattrs>=22.2->requests-cache~=1.2->chembl_webresource_client) (4.12.2)\n",
      "Requirement already satisfied: six in /Users/ia4118/anaconda3/envs/pytorch_venv/lib/python3.10/site-packages (from url-normalize>=1.4->requests-cache~=1.2->chembl_webresource_client) (1.16.0)\n",
      "Downloading chembl_webresource_client-0.10.9-py3-none-any.whl (55 kB)\n",
      "Downloading requests_cache-1.2.1-py3-none-any.whl (61 kB)\n",
      "Downloading easydict-1.13-py3-none-any.whl (6.8 kB)\n",
      "Downloading cattrs-24.1.2-py3-none-any.whl (66 kB)\n",
      "Downloading url_normalize-1.4.3-py2.py3-none-any.whl (6.8 kB)\n",
      "Installing collected packages: easydict, url-normalize, cattrs, requests-cache, chembl_webresource_client\n",
      "Successfully installed cattrs-24.1.2 chembl_webresource_client-0.10.9 easydict-1.13 requests-cache-1.2.1 url-normalize-1.4.3\n"
     ]
    }
   ],
   "source": [
    "! pip install chembl_webresource_client"
   ]
  },
  {
   "cell_type": "code",
   "execution_count": 2,
   "metadata": {},
   "outputs": [],
   "source": [
    "import pandas as pd\n",
    "from chembl_webresource_client.new_client import new_client"
   ]
  },
  {
   "cell_type": "code",
   "execution_count": 5,
   "metadata": {},
   "outputs": [
    {
     "data": {
      "text/html": [
       "<div>\n",
       "<style scoped>\n",
       "    .dataframe tbody tr th:only-of-type {\n",
       "        vertical-align: middle;\n",
       "    }\n",
       "\n",
       "    .dataframe tbody tr th {\n",
       "        vertical-align: top;\n",
       "    }\n",
       "\n",
       "    .dataframe thead th {\n",
       "        text-align: right;\n",
       "    }\n",
       "</style>\n",
       "<table border=\"1\" class=\"dataframe\">\n",
       "  <thead>\n",
       "    <tr style=\"text-align: right;\">\n",
       "      <th></th>\n",
       "      <th>cross_references</th>\n",
       "      <th>organism</th>\n",
       "      <th>pref_name</th>\n",
       "      <th>score</th>\n",
       "      <th>species_group_flag</th>\n",
       "      <th>target_chembl_id</th>\n",
       "      <th>target_components</th>\n",
       "      <th>target_type</th>\n",
       "      <th>tax_id</th>\n",
       "    </tr>\n",
       "  </thead>\n",
       "  <tbody>\n",
       "    <tr>\n",
       "      <th>0</th>\n",
       "      <td>[]</td>\n",
       "      <td>Coronavirus</td>\n",
       "      <td>Coronavirus</td>\n",
       "      <td>17.0</td>\n",
       "      <td>False</td>\n",
       "      <td>CHEMBL613732</td>\n",
       "      <td>[]</td>\n",
       "      <td>ORGANISM</td>\n",
       "      <td>11119</td>\n",
       "    </tr>\n",
       "    <tr>\n",
       "      <th>1</th>\n",
       "      <td>[]</td>\n",
       "      <td>Feline coronavirus</td>\n",
       "      <td>Feline coronavirus</td>\n",
       "      <td>14.0</td>\n",
       "      <td>False</td>\n",
       "      <td>CHEMBL612744</td>\n",
       "      <td>[]</td>\n",
       "      <td>ORGANISM</td>\n",
       "      <td>12663</td>\n",
       "    </tr>\n",
       "    <tr>\n",
       "      <th>2</th>\n",
       "      <td>[]</td>\n",
       "      <td>Murine coronavirus</td>\n",
       "      <td>Murine coronavirus</td>\n",
       "      <td>14.0</td>\n",
       "      <td>False</td>\n",
       "      <td>CHEMBL5209664</td>\n",
       "      <td>[]</td>\n",
       "      <td>ORGANISM</td>\n",
       "      <td>694005</td>\n",
       "    </tr>\n",
       "    <tr>\n",
       "      <th>3</th>\n",
       "      <td>[]</td>\n",
       "      <td>Canine coronavirus</td>\n",
       "      <td>Canine coronavirus</td>\n",
       "      <td>14.0</td>\n",
       "      <td>False</td>\n",
       "      <td>CHEMBL5291668</td>\n",
       "      <td>[]</td>\n",
       "      <td>ORGANISM</td>\n",
       "      <td>11153</td>\n",
       "    </tr>\n",
       "    <tr>\n",
       "      <th>4</th>\n",
       "      <td>[]</td>\n",
       "      <td>Human coronavirus 229E</td>\n",
       "      <td>Human coronavirus 229E</td>\n",
       "      <td>13.0</td>\n",
       "      <td>False</td>\n",
       "      <td>CHEMBL613837</td>\n",
       "      <td>[]</td>\n",
       "      <td>ORGANISM</td>\n",
       "      <td>11137</td>\n",
       "    </tr>\n",
       "    <tr>\n",
       "      <th>5</th>\n",
       "      <td>[]</td>\n",
       "      <td>Human coronavirus OC43</td>\n",
       "      <td>Human coronavirus OC43</td>\n",
       "      <td>13.0</td>\n",
       "      <td>False</td>\n",
       "      <td>CHEMBL5209665</td>\n",
       "      <td>[]</td>\n",
       "      <td>ORGANISM</td>\n",
       "      <td>31631</td>\n",
       "    </tr>\n",
       "    <tr>\n",
       "      <th>6</th>\n",
       "      <td>[]</td>\n",
       "      <td>Severe acute respiratory syndrome-related coro...</td>\n",
       "      <td>SARS coronavirus 3C-like proteinase</td>\n",
       "      <td>10.0</td>\n",
       "      <td>False</td>\n",
       "      <td>CHEMBL3927</td>\n",
       "      <td>[{'accession': 'P0C6U8', 'component_descriptio...</td>\n",
       "      <td>SINGLE PROTEIN</td>\n",
       "      <td>694009</td>\n",
       "    </tr>\n",
       "    <tr>\n",
       "      <th>7</th>\n",
       "      <td>[]</td>\n",
       "      <td>Middle East respiratory syndrome-related coron...</td>\n",
       "      <td>Middle East respiratory syndrome-related coron...</td>\n",
       "      <td>9.0</td>\n",
       "      <td>False</td>\n",
       "      <td>CHEMBL4296578</td>\n",
       "      <td>[]</td>\n",
       "      <td>ORGANISM</td>\n",
       "      <td>1335626</td>\n",
       "    </tr>\n",
       "    <tr>\n",
       "      <th>8</th>\n",
       "      <td>[]</td>\n",
       "      <td>Severe acute respiratory syndrome-related coro...</td>\n",
       "      <td>Replicase polyprotein 1ab</td>\n",
       "      <td>4.0</td>\n",
       "      <td>False</td>\n",
       "      <td>CHEMBL5118</td>\n",
       "      <td>[{'accession': 'P0C6X7', 'component_descriptio...</td>\n",
       "      <td>SINGLE PROTEIN</td>\n",
       "      <td>694009</td>\n",
       "    </tr>\n",
       "    <tr>\n",
       "      <th>9</th>\n",
       "      <td>[]</td>\n",
       "      <td>Severe acute respiratory syndrome coronavirus 2</td>\n",
       "      <td>Replicase polyprotein 1ab</td>\n",
       "      <td>4.0</td>\n",
       "      <td>False</td>\n",
       "      <td>CHEMBL4523582</td>\n",
       "      <td>[{'accession': 'P0DTD1', 'component_descriptio...</td>\n",
       "      <td>SINGLE PROTEIN</td>\n",
       "      <td>2697049</td>\n",
       "    </tr>\n",
       "  </tbody>\n",
       "</table>\n",
       "</div>"
      ],
      "text/plain": [
       "  cross_references                                           organism  \\\n",
       "0               []                                        Coronavirus   \n",
       "1               []                                 Feline coronavirus   \n",
       "2               []                                 Murine coronavirus   \n",
       "3               []                                 Canine coronavirus   \n",
       "4               []                             Human coronavirus 229E   \n",
       "5               []                             Human coronavirus OC43   \n",
       "6               []  Severe acute respiratory syndrome-related coro...   \n",
       "7               []  Middle East respiratory syndrome-related coron...   \n",
       "8               []  Severe acute respiratory syndrome-related coro...   \n",
       "9               []    Severe acute respiratory syndrome coronavirus 2   \n",
       "\n",
       "                                           pref_name  score  \\\n",
       "0                                        Coronavirus   17.0   \n",
       "1                                 Feline coronavirus   14.0   \n",
       "2                                 Murine coronavirus   14.0   \n",
       "3                                 Canine coronavirus   14.0   \n",
       "4                             Human coronavirus 229E   13.0   \n",
       "5                             Human coronavirus OC43   13.0   \n",
       "6                SARS coronavirus 3C-like proteinase   10.0   \n",
       "7  Middle East respiratory syndrome-related coron...    9.0   \n",
       "8                          Replicase polyprotein 1ab    4.0   \n",
       "9                          Replicase polyprotein 1ab    4.0   \n",
       "\n",
       "   species_group_flag target_chembl_id  \\\n",
       "0               False     CHEMBL613732   \n",
       "1               False     CHEMBL612744   \n",
       "2               False    CHEMBL5209664   \n",
       "3               False    CHEMBL5291668   \n",
       "4               False     CHEMBL613837   \n",
       "5               False    CHEMBL5209665   \n",
       "6               False       CHEMBL3927   \n",
       "7               False    CHEMBL4296578   \n",
       "8               False       CHEMBL5118   \n",
       "9               False    CHEMBL4523582   \n",
       "\n",
       "                                   target_components     target_type   tax_id  \n",
       "0                                                 []        ORGANISM    11119  \n",
       "1                                                 []        ORGANISM    12663  \n",
       "2                                                 []        ORGANISM   694005  \n",
       "3                                                 []        ORGANISM    11153  \n",
       "4                                                 []        ORGANISM    11137  \n",
       "5                                                 []        ORGANISM    31631  \n",
       "6  [{'accession': 'P0C6U8', 'component_descriptio...  SINGLE PROTEIN   694009  \n",
       "7                                                 []        ORGANISM  1335626  \n",
       "8  [{'accession': 'P0C6X7', 'component_descriptio...  SINGLE PROTEIN   694009  \n",
       "9  [{'accession': 'P0DTD1', 'component_descriptio...  SINGLE PROTEIN  2697049  "
      ]
     },
     "execution_count": 5,
     "metadata": {},
     "output_type": "execute_result"
    }
   ],
   "source": [
    "target = new_client.target\n",
    "target_query = target.search('coronavirus')\n",
    "targets = pd.DataFrame.from_dict(target_query)\n",
    "targets"
   ]
  },
  {
   "cell_type": "markdown",
   "metadata": {},
   "source": [
    "We select the coronavirus \"Single Protein\", index 6"
   ]
  },
  {
   "cell_type": "code",
   "execution_count": 20,
   "metadata": {},
   "outputs": [
    {
     "data": {
      "text/plain": [
       "'CHEMBL3927'"
      ]
     },
     "execution_count": 20,
     "metadata": {},
     "output_type": "execute_result"
    }
   ],
   "source": [
    "selected_target = targets[\"target_chembl_id\"][6]\n",
    "selected_target"
   ]
  },
  {
   "cell_type": "markdown",
   "metadata": {},
   "source": [
    "### TARGET ACTIVITY\n",
    "\n",
    "Target activity refers to the biological activity measurements between chemical compounds and your selected target.\n",
    "\n",
    "### WHAT TYPES OF ACTIVITY EXIST?\n",
    "\n",
    "- ***decrease some biological effect*** - INHIBITION!\n",
    "- ***increasing some biological effect*** - STIMULATION!\n",
    "- ***modifying some biological effect*** - MODULATION!\n",
    "\n",
    "### TYPES OF TARGET ACTIVITIES\n",
    "\n",
    "- **Potency** - A measure of how much drug is needed to achieve a desired effect, typically concentration.\n",
    "- **Activity** - A general term describing the biological effect of a compound, typically % activity compared to no drug \n",
    "\n",
    "WE CAN HAVE A DRUG THAT HAS GOOD % OF ACTIVITY/EFFECTIVENESS BUT WITH HIGH DRUG CONCENTRATION (LOW POTENCY)\n",
    "\n"
   ]
  },
  {
   "cell_type": "markdown",
   "metadata": {},
   "source": [
    "### EXAMPLE\n",
    "\n",
    "Drug A:\n",
    "- 1µM gives 80% inhibition (High potency, High activity)\n",
    "- Very effective at low dose!\n",
    "\n",
    "Drug B:\n",
    "- 1µM gives 10% inhibition\n",
    "- 100µM gives 90% inhibition (Low potency, High activity)\n",
    "- Works well but needs higher dose\n"
   ]
  },
  {
   "cell_type": "code",
   "execution_count": 23,
   "metadata": {},
   "outputs": [
    {
     "name": "stdout",
     "output_type": "stream",
     "text": [
      "Index(['action_type', 'activity_comment', 'activity_id', 'activity_properties',\n",
      "       'assay_chembl_id', 'assay_description', 'assay_type',\n",
      "       'assay_variant_accession', 'assay_variant_mutation', 'bao_endpoint',\n",
      "       'bao_format', 'bao_label', 'canonical_smiles', 'data_validity_comment',\n",
      "       'data_validity_description', 'document_chembl_id', 'document_journal',\n",
      "       'document_year', 'ligand_efficiency', 'molecule_chembl_id',\n",
      "       'molecule_pref_name', 'parent_molecule_chembl_id', 'pchembl_value',\n",
      "       'potential_duplicate', 'qudt_units', 'record_id', 'relation', 'src_id',\n",
      "       'standard_flag', 'standard_relation', 'standard_text_value',\n",
      "       'standard_type', 'standard_units', 'standard_upper_value',\n",
      "       'standard_value', 'target_chembl_id', 'target_organism',\n",
      "       'target_pref_name', 'target_tax_id', 'text_value', 'toid', 'type',\n",
      "       'units', 'uo_units', 'upper_value', 'value'],\n",
      "      dtype='object')\n"
     ]
    }
   ],
   "source": [
    "activity = new_client.activity\n",
    "res = activity.filter(target_chembl_id=selected_target)\n",
    "df = pd.DataFrame.from_dict(res)\n",
    "print(df.columns)"
   ]
  },
  {
   "cell_type": "markdown",
   "metadata": {},
   "source": [
    "So the idea is that this protein has different targets that have different degrees of activity. If we look at the standard_type column we can see the different activity types"
   ]
  },
  {
   "cell_type": "code",
   "execution_count": 27,
   "metadata": {},
   "outputs": [
    {
     "name": "stdout",
     "output_type": "stream",
     "text": [
      "Standard types:  ['Inhibition' 'IC50' 'kinact' 'T1/2' 'Activity' 'Ki' 'Km' 'Kcat' 'Kcat/Km'\n",
      " 'EC50' 'Ratio' 'Kd']\n"
     ]
    }
   ],
   "source": [
    "standard_type = df[\"standard_type\"].unique()\n",
    "print(\"Standard types: \", standard_type)"
   ]
  },
  {
   "cell_type": "markdown",
   "metadata": {},
   "source": [
    "## There exist two types of drugs: Agonist or Antagonists. \n",
    "\n",
    "**Agonist** drugs basically activate or enhance the target function -> increase the efect -> for Activity measurement we use **EC50**\n",
    "\n",
    "\n",
    "**Antagonist** they block/reduce the target function -> for Activity measurement we use **IC50**"
   ]
  },
  {
   "cell_type": "markdown",
   "metadata": {},
   "source": [
    "IC50 is commonly used as a measure of antagonist drug potency in pharmacological research. IC50 is comparable to other measures of potency, such as EC50 for excitatory drugs. EC50 represents the dose or plasma concentration required for obtaining 50% of a maximum effect in vivo.[1]"
   ]
  },
  {
   "cell_type": "code",
   "execution_count": 31,
   "metadata": {},
   "outputs": [
    {
     "name": "stdout",
     "output_type": "stream",
     "text": [
      "<class 'chembl_webresource_client.query_set.QuerySet'>\n"
     ]
    }
   ],
   "source": [
    "activity = new_client.activity\n",
    "#we filter by the standard type==IC50 so we are getting drugs that are antagonists. They block the target function\n",
    "res = activity.filter(target_chembl_id=selected_target).filter(standard_type=\"IC50\")\n",
    "res\n",
    "print(type(res))"
   ]
  },
  {
   "cell_type": "code",
   "execution_count": 32,
   "metadata": {},
   "outputs": [],
   "source": [
    "df = pd.DataFrame.from_dict(res)"
   ]
  },
  {
   "cell_type": "code",
   "execution_count": 34,
   "metadata": {},
   "outputs": [],
   "source": [
    "df.to_csv('bioactivity_coronavirus_protein_raw.csv', index=False)"
   ]
  },
  {
   "cell_type": "markdown",
   "metadata": {},
   "source": [
    "## Handling missing data"
   ]
  },
  {
   "cell_type": "markdown",
   "metadata": {},
   "source": [
    "We just get rid of missing data"
   ]
  },
  {
   "cell_type": "code",
   "execution_count": 37,
   "metadata": {},
   "outputs": [],
   "source": [
    "clean_df = df[df.standard_value.notna()]\n",
    "clean_df.to_csv('bioactivity_coronavirus_protein_clean.csv', index=False)"
   ]
  },
  {
   "cell_type": "markdown",
   "metadata": {},
   "source": []
  },
  {
   "cell_type": "code",
   "execution_count": null,
   "metadata": {},
   "outputs": [],
   "source": []
  }
 ],
 "metadata": {
  "kernelspec": {
   "display_name": "pytorch_venv",
   "language": "python",
   "name": "python3"
  },
  "language_info": {
   "codemirror_mode": {
    "name": "ipython",
    "version": 3
   },
   "file_extension": ".py",
   "mimetype": "text/x-python",
   "name": "python",
   "nbconvert_exporter": "python",
   "pygments_lexer": "ipython3",
   "version": "3.10.15"
  }
 },
 "nbformat": 4,
 "nbformat_minor": 2
}
