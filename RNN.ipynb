{
 "cells": [
  {
   "cell_type": "markdown",
   "metadata": {},
   "source": [
    "## SEQUENTIAL ARCHITECTURES (RNN, LSTM, GRU)    "
   ]
  },
  {
   "cell_type": "markdown",
   "metadata": {},
   "source": [
    "## Vanilla RNN"
   ]
  },
  {
   "cell_type": "code",
   "execution_count": 3,
   "metadata": {},
   "outputs": [],
   "source": [
    "import torch\n",
    "import torch.nn as nn\n",
    "\n",
    "class RNN_block(nn.Module):\n",
    "    def __init__(self,input_size, hidden_size):\n",
    "        super().__init__()\n",
    "        #h_t+1 = sigma(whh * h_t-1 + whx * x_t-1), here sigma I assume tanh\n",
    "        #hidden to hidden \n",
    "        self.whh = nn.Linear(hidden_size, hidden_size)\n",
    "        #input to hidden\n",
    "        self.whx = nn.Linear(input_size, hidden_size)\n",
    "        self.tanh = nn.Tanh()\n",
    "    \n",
    "    def forward(self, x, h):\n",
    "        h_from_prev = self.whh(h)\n",
    "        h_from_input = self.whx(x)\n",
    "        return self.tanh(h_from_input+h_from_prev)\n",
    "    \n",
    "class simpleRNN(nn.Module):\n",
    "    \n",
    "    def __init__(self,input_size, hidden_size, output_size, num_embeddings):\n",
    "        super().__init__()\n",
    "        self.output = nn.Linear(hidden_size, output_size)\n",
    "        self.tanh = nn.Tanh()\n",
    "        self.embedding = nn.Embedding(num_embeddings, input_size)\n",
    "        self.rnn_block = RNN_block(input_size, hidden_size)\n",
    "        self.hidden_size = hidden_size\n",
    "    \n",
    "    def forward(self, x):\n",
    "        embedding = self.embedding(x)\n",
    "        #batch, seq_len, input_size\n",
    "        seq_len = embedding.shape[1]\n",
    "        #batch, seq_len, hidden_size\n",
    "        h = torch.zeros(embedding.shape[0], self.hidden_size, device=embedding.device,requires_grad=True)\n",
    "        for i in range(seq_len):\n",
    "            h = self.rnn_block(embedding[:,i,:], h)\n",
    "        out = self.output(h)\n",
    "        return out"
   ]
  },
  {
   "cell_type": "markdown",
   "metadata": {},
   "source": [
    "## RNN bidirectional"
   ]
  },
  {
   "cell_type": "code",
   "execution_count": 4,
   "metadata": {},
   "outputs": [],
   "source": [
    "  \n",
    "class bidirectionalRNN(nn.Module):\n",
    "    \n",
    "    def __init__(self,input_size, hidden_size, output_size, num_embeddings):\n",
    "        super().__init__()\n",
    "        self.output = nn.Linear(2*hidden_size, output_size)\n",
    "        self.tanh = nn.Tanh()\n",
    "        self.embedding = nn.Embedding(num_embeddings, input_size)\n",
    "        self.rnn_block_forward = RNN_block(input_size, hidden_size)\n",
    "        self.rnn_block_backward = RNN_block(input_size, hidden_size)\n",
    "        self.hidden_size = hidden_size\n",
    "    \n",
    "    def forward(self, x):\n",
    "        embedding = self.embedding(x)\n",
    "        #batch, seq_len, input_size\n",
    "        seq_len = embedding.shape[1]\n",
    "        #forward direction\n",
    "        h_forward = torch.zeros(embedding.shape[0], self.hidden_size, device=embedding.device,requires_grad=True)\n",
    "        for i in range(seq_len):\n",
    "            h_forward = self.rnn_block_forward(embedding[:,i,:], h_forward)\n",
    "        #backward direction\n",
    "        h_backward = torch.zeros(embedding.shape[0], self.hidden_size, device=embedding.device,requires_grad=True)\n",
    "        for i in range(seq_len):\n",
    "            h_backward = self.rnn_block_backward(embedding[:,seq_len-i-1,:], h_backward)\n",
    "        #now we concatenate the forward and backward hidden states at the end\n",
    "        h = torch.cat((h_forward, h_backward), dim=1)\n",
    "        out = self.output(h)\n",
    "        return out"
   ]
  },
  {
   "cell_type": "markdown",
   "metadata": {},
   "source": [
    "## LSTM "
   ]
  },
  {
   "cell_type": "markdown",
   "metadata": {},
   "source": [
    "LSTM get rid of the vanishing gradient problem in RNN's. Because RNN is sequential, when computing the loss gradients we get a chain of derivatives that is multiplied through time. This causes the gradients to vanish or explode. LSTM solves this by adding a cell state that is passed through the time steps. This allows the LSTM to remember information for a longer time. \n",
    "\n",
    "<img src=\"figures/lstm_architecture.png\" width=\"50%\" alt=\"LSTM Architecture\">"
   ]
  },
  {
   "cell_type": "code",
   "execution_count": 6,
   "metadata": {},
   "outputs": [],
   "source": [
    "class LSTM_block(nn.Module):\n",
    "    \n",
    "    def __init__(self, input_size, hidden_size):\n",
    "        \n",
    "        #input to gates\n",
    "        self.input_to_output = nn.Linear(input_size, hidden_size)\n",
    "        self.input_to_input = nn.Linear(input_size, hidden_size)\n",
    "        self.input_to_forget = nn.Linear(input_size, hidden_size)\n",
    "        #hidden to gates\n",
    "        self.hidden_to_output = nn.Linear(hidden_size, hidden_size)\n",
    "        self.hidden_to_input = nn.Linear(hidden_size, hidden_size)\n",
    "        self.hidden_to_forget = nn.Linear(hidden_size, hidden_size)\n",
    "        \n",
    "        self.candidate_cell_input_to_hidden = nn.Linear(input_size, hidden_size)\n",
    "        self.candidate_cell_hidden_to_hidden = nn.Linear(hidden_size, hidden_size)\n",
    "        \n",
    "    \n",
    "    def forward(self, x, h, c):   \n",
    "             \n",
    "        #GATES\n",
    "        forget_gate = self.sigmoid(self.input_to_forget(x) + self.hidden_to_forget(h))\n",
    "        input_gate = self.sigmoid(self.input_to_input(x) + self.hidden_to_input(h))\n",
    "        output_gate = self.sigmoid(self.input_to_output(x) + self.hidden_to_output(h))\n",
    "        cell_candidate = self.tanh(self.candidate_cell_input_to_hidden(x) + self.candidate_cell_hidden_to_hidden(h))\n",
    "        \n",
    "        #NEXT CELL STATE\n",
    "        next_cell_state = forget_gate * c + input_gate * cell_candidate\n",
    "        \n",
    "        #NEXT HIDDEN STATE\n",
    "        next_hidden_state = output_gate * self.tanh(next_cell_state)\n",
    "        \n",
    "        return next_hidden_state, next_cell_state"
   ]
  },
  {
   "cell_type": "markdown",
   "metadata": {},
   "source": []
  }
 ],
 "metadata": {
  "kernelspec": {
   "display_name": "pytorch_venv",
   "language": "python",
   "name": "python3"
  },
  "language_info": {
   "codemirror_mode": {
    "name": "ipython",
    "version": 3
   },
   "file_extension": ".py",
   "mimetype": "text/x-python",
   "name": "python",
   "nbconvert_exporter": "python",
   "pygments_lexer": "ipython3",
   "version": "3.10.15"
  }
 },
 "nbformat": 4,
 "nbformat_minor": 2
}
